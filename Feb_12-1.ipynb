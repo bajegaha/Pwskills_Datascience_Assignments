{
 "cells": [
  {
   "cell_type": "markdown",
   "id": "d877e326-7d2b-4ee7-84d1-8156e4cf36e2",
   "metadata": {},
   "source": [
    "Exception Handling Assignments"
   ]
  },
  {
   "cell_type": "markdown",
   "id": "39a25d1a-c023-4739-ae5a-5677a9fc0cf6",
   "metadata": {},
   "source": [
    "Q1. What is an Exception in python? Write the difference between Exceptions and Syntax errors.\n"
   ]
  },
  {
   "cell_type": "markdown",
   "id": "1246ca43-75a0-43b8-9083-a5c11d97bf3b",
   "metadata": {},
   "source": [
    "Ans:    An exception in Python is an error that occurs during the execution of a program, leading to the disruption of the normal flow of the program\n",
    "Exceptions occur during the execution of the program and can be handled, while syntax errors occur during the parsing of the code and must be fixed before the program is executed."
   ]
  },
  {
   "cell_type": "markdown",
   "id": "45333610-90dd-45e1-8392-89f40fe50f42",
   "metadata": {},
   "source": [
    "Q2. What happens when an exception is not handled? Explain with an example."
   ]
  },
  {
   "cell_type": "markdown",
   "id": "b345192e-e1d6-40c1-9830-a154430a6c97",
   "metadata": {},
   "source": [
    "Ans:When an exception is not handled in a Python program, it causes the program to stop running, and an error message is displayed, providing information about the exception that occurred. This halts the normal execution of the program and can prevent the completion of important tasks. Here is example:\n"
   ]
  },
  {
   "cell_type": "code",
   "execution_count": 3,
   "id": "172a4c15-a789-45c2-8157-8c53e1248d7a",
   "metadata": {},
   "outputs": [
    {
     "ename": "ZeroDivisionError",
     "evalue": "division by zero",
     "output_type": "error",
     "traceback": [
      "\u001b[0;31m---------------------------------------------------------------------------\u001b[0m",
      "\u001b[0;31mZeroDivisionError\u001b[0m                         Traceback (most recent call last)",
      "Cell \u001b[0;32mIn[3], line 4\u001b[0m\n\u001b[1;32m      2\u001b[0m numerator \u001b[38;5;241m=\u001b[39m \u001b[38;5;241m10\u001b[39m\n\u001b[1;32m      3\u001b[0m denominator \u001b[38;5;241m=\u001b[39m \u001b[38;5;241m0\u001b[39m\n\u001b[0;32m----> 4\u001b[0m result \u001b[38;5;241m=\u001b[39m \u001b[43mnumerator\u001b[49m\u001b[43m \u001b[49m\u001b[38;5;241;43m/\u001b[39;49m\u001b[43m \u001b[49m\u001b[43mdenominator\u001b[49m\n\u001b[1;32m      5\u001b[0m \u001b[38;5;28mprint\u001b[39m(result)  \u001b[38;5;66;03m# This line won't be executed due to the exception\u001b[39;00m\n",
      "\u001b[0;31mZeroDivisionError\u001b[0m: division by zero"
     ]
    }
   ],
   "source": [
    "# Example of an unhandled exception\n",
    "numerator = 10\n",
    "denominator = 0\n",
    "result = numerator / denominator\n",
    "print(result)  # This line won't be executed due to the exception\n"
   ]
  },
  {
   "cell_type": "markdown",
   "id": "00c56195-4974-4d8e-9c41-f720d2ee5cf7",
   "metadata": {},
   "source": [
    "\n",
    "Q3. Which Python statements are used to catch and handle exceptions? Explain with an example."
   ]
  },
  {
   "cell_type": "markdown",
   "id": "5b19c1e6-1c20-4a56-b6e0-facc2283421b",
   "metadata": {},
   "source": [
    "Ans: try and else, finally and raise are used to catch and handle the exceptions. "
   ]
  },
  {
   "cell_type": "code",
   "execution_count": 4,
   "id": "a27bde58-4466-4ba7-b601-3f4b4654da31",
   "metadata": {},
   "outputs": [
    {
     "name": "stdout",
     "output_type": "stream",
     "text": [
      "Cannot divide by zero!\n",
      "This will always execute.\n"
     ]
    }
   ],
   "source": [
    "# Example of handling exceptions\n",
    "try:\n",
    "    result = 10 / 0\n",
    "except ZeroDivisionError:\n",
    "    print(\"Cannot divide by zero!\")\n",
    "else:\n",
    "    print(\"Division successful!\")\n",
    "finally:\n",
    "    print(\"This will always execute.\")\n"
   ]
  },
  {
   "cell_type": "markdown",
   "id": "37276aa9-5c0c-4e0a-a258-805dc29ba36f",
   "metadata": {},
   "source": [
    "Q4. Explain with an example: try and else, finally, raise "
   ]
  },
  {
   "cell_type": "code",
   "execution_count": 6,
   "id": "2ee1ef68-dba3-434e-9331-32be26b050ec",
   "metadata": {},
   "outputs": [
    {
     "name": "stdin",
     "output_type": "stream",
     "text": [
      "Enter a positive integer:  0\n"
     ]
    },
    {
     "name": "stdout",
     "output_type": "stream",
     "text": [
      "That is not a positive number!\n",
      "Execution complete.\n"
     ]
    }
   ],
   "source": [
    "# Example of try, else, finally, and raise\n",
    "try:\n",
    "    num = int(input(\"Enter a positive integer: \"))\n",
    "    if num <= 0:\n",
    "        raise ValueError(\"That is not a positive number!\")\n",
    "except ValueError as e:\n",
    "    print(e)\n",
    "else:\n",
    "    reciprocal = 1 / num\n",
    "    print(f\"The reciprocal of {num} is {reciprocal}.\")\n",
    "finally:\n",
    "    print(\"Execution complete.\")\n"
   ]
  },
  {
   "cell_type": "markdown",
   "id": "0ff66163-6147-4fb9-809f-de1caa073cec",
   "metadata": {},
   "source": [
    "In the above example:\n",
    "The try block is used to execute the code that might raise an exception.\n",
    "If a ValueError is raised, the except block catches the exception and prints the error message.\n",
    "If no exception is raised, the else block is executed, which computes the reciprocal of the input number.\n",
    "The finally block always executes, regardless of whether an exception is raised or not.\n",
    "The raise statement is used to raise a ValueError if the input number is not positive, thereby triggering the except block."
   ]
  },
  {
   "cell_type": "markdown",
   "id": "23a20235-15a1-449e-9c11-cbd706293456",
   "metadata": {},
   "source": [
    "Q6. Create a custom exception class. Use this class to handle an exception."
   ]
  },
  {
   "cell_type": "code",
   "execution_count": 3,
   "id": "7e846cd3-8cb2-4b09-9d6e-658062b1dc3b",
   "metadata": {},
   "outputs": [
    {
     "name": "stdin",
     "output_type": "stream",
     "text": [
      "Enter a number greater than 5:  0\n"
     ]
    },
    {
     "name": "stdout",
     "output_type": "stream",
     "text": [
      "Custom Error: The number should be greater than 5.\n"
     ]
    }
   ],
   "source": [
    "\n",
    "class CustomError(Exception):\n",
    "    def __init__(self, message):\n",
    "        self.message = message\n",
    "\n",
    "# Handling the custom exception\n",
    "try:\n",
    "    num = int(input(\"Enter a number greater than 5: \"))\n",
    "    if num <= 5:\n",
    "        raise CustomError(\"The number should be greater than 5.\")\n",
    "    else:\n",
    "        print(\"The number is:\", num)\n",
    "except CustomError as e  :\n",
    "    print(\"Custom Error:\", e.message)\n"
   ]
  },
  {
   "cell_type": "code",
   "execution_count": null,
   "id": "ff74e494-2e22-4338-8a71-99a821323e36",
   "metadata": {},
   "outputs": [],
   "source": []
  }
 ],
 "metadata": {
  "kernelspec": {
   "display_name": "Python 3 (ipykernel)",
   "language": "python",
   "name": "python3"
  },
  "language_info": {
   "codemirror_mode": {
    "name": "ipython",
    "version": 3
   },
   "file_extension": ".py",
   "mimetype": "text/x-python",
   "name": "python",
   "nbconvert_exporter": "python",
   "pygments_lexer": "ipython3",
   "version": "3.10.8"
  }
 },
 "nbformat": 4,
 "nbformat_minor": 5
}
