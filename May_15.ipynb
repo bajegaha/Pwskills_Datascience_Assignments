{
 "cells": [
  {
   "cell_type": "markdown",
   "id": "940adb5d-47db-4cfd-a7b2-2e58a2c0b3c3",
   "metadata": {},
   "source": [
    "1.  How do you comment code in Python? What are the different types of comments?"
   ]
  },
  {
   "cell_type": "markdown",
   "id": "9824b578-d9b8-484e-8141-602f7fd54d5e",
   "metadata": {},
   "source": [
    "  In Python, we can create comments using the # symbol for single-line comments and triple quotes ''' or \"\"\" for multiline comments."
   ]
  },
  {
   "cell_type": "code",
   "execution_count": null,
   "id": "cd956623-cb9e-448e-8df8-426a6842eec7",
   "metadata": {},
   "outputs": [],
   "source": []
  },
  {
   "cell_type": "markdown",
   "id": "2f2f31f8-2a2b-4364-ad5a-d8b38588e018",
   "metadata": {},
   "source": [
    "\n",
    "Q2. What are variables in Python? How do you declare and assign values to variables?\n",
    "\n",
    "\n"
   ]
  },
  {
   "cell_type": "markdown",
   "id": "2ec72052-c727-4357-9d65-a83f77a13bd9",
   "metadata": {},
   "source": [
    "\n",
    "    Variables in Python are names that refer to objects in memory. We  can declare a variable by simply assigning a value to it using the assignment operator (=).\n",
    "\n"
   ]
  },
  {
   "cell_type": "code",
   "execution_count": null,
   "id": "5520cbda-7260-4420-94c1-91d41b590a72",
   "metadata": {},
   "outputs": [],
   "source": []
  },
  {
   "cell_type": "markdown",
   "id": "5e5afa49-e977-4cb0-bce2-775a7505f76b",
   "metadata": {},
   "source": [
    "\n",
    "Q3. How do you convert one data type to another in Python?\n"
   ]
  },
  {
   "cell_type": "markdown",
   "id": "6698b90d-3644-449a-b05f-a694a9b0c354",
   "metadata": {},
   "source": [
    " We can use type conversion functions like int(), float(), str(), etc., to convert one data type to another."
   ]
  },
  {
   "cell_type": "code",
   "execution_count": null,
   "id": "343ce0d9-a419-44cd-9f6a-5074b933a61b",
   "metadata": {},
   "outputs": [],
   "source": []
  },
  {
   "cell_type": "markdown",
   "id": "e74224e9-cbd9-40bc-9caa-42753608ac44",
   "metadata": {},
   "source": [
    "Q4. How do you write and execute a Python script from the command line?\n"
   ]
  },
  {
   "cell_type": "markdown",
   "id": "e522d4e3-500f-4aee-9d23-371ec517395c",
   "metadata": {},
   "source": [
    " Write the Python code in a .py file using a text editor (e.g., Notepad, VS Code). Then, run it from the command line using the python command followed by the script's filename."
   ]
  },
  {
   "cell_type": "code",
   "execution_count": null,
   "id": "6d15223d-42ce-4993-a8dc-14b23938123b",
   "metadata": {},
   "outputs": [],
   "source": []
  },
  {
   "cell_type": "markdown",
   "id": "55ebfdc7-f5ad-4f6f-aef4-30e126d464eb",
   "metadata": {},
   "source": [
    "\n",
    "Q5. Given a list my_list = [1, 2, 3, 4, 5],\n",
    "\n",
    "write the code to slice the list and obtain the sub-list [2, 3].\n"
   ]
  },
  {
   "cell_type": "code",
   "execution_count": 2,
   "id": "65440904-2afd-4ea2-b184-ff62379eea73",
   "metadata": {},
   "outputs": [
    {
     "name": "stdout",
     "output_type": "stream",
     "text": [
      "[2, 3]\n"
     ]
    }
   ],
   "source": [
    "my_list = [1, 2, 3, 4, 5]\n",
    "sub_list = my_list[1:3]\n",
    "print(sub_list)  # Output: [2, 3]\n",
    " "
   ]
  },
  {
   "cell_type": "code",
   "execution_count": null,
   "id": "7919057c-f003-4305-b803-e0ff6bbfb5f2",
   "metadata": {},
   "outputs": [],
   "source": []
  },
  {
   "cell_type": "markdown",
   "id": "caebb20d-ff6e-43ba-8141-0d0145596aa6",
   "metadata": {},
   "source": [
    " \n",
    "Q6. What is a complex number in mathematics, and how is it represented in Python?\n"
   ]
  },
  {
   "cell_type": "markdown",
   "id": "b8ecdb0c-7bdf-4c9e-8084-2859fa8bfc93",
   "metadata": {},
   "source": [
    " In mathematics, a complex number is a number that comprises a real part and an imaginary part. In Python, complex numbers are represented by adding a j or J suffix to the imaginary part."
   ]
  },
  {
   "cell_type": "code",
   "execution_count": null,
   "id": "313e1d59-d29f-4741-9e98-363d994177cd",
   "metadata": {},
   "outputs": [],
   "source": []
  },
  {
   "cell_type": "markdown",
   "id": "e5f7ddb2-c38e-4e5f-9c04-e4f22a27d164",
   "metadata": {},
   "source": [
    "\n",
    "Q7. What is the correct way to declare a variable named age and assign the value 25 to it?\n"
   ]
  },
  {
   "cell_type": "markdown",
   "id": "a148ded8-3f3a-4fc7-b969-82a0bab29bbf",
   "metadata": {},
   "source": [
    "    age = 25\n"
   ]
  },
  {
   "cell_type": "code",
   "execution_count": null,
   "id": "085de465-5034-4b3b-bce9-63e7b5f1d7c8",
   "metadata": {},
   "outputs": [],
   "source": []
  },
  {
   "cell_type": "markdown",
   "id": "bf7130a3-f6b5-445c-86f4-c14339ed9473",
   "metadata": {},
   "source": [
    "\n",
    "Q8. Declare a variable named price and assign the value 9.99 to it. What data type does this variable\n",
    "belong to?\n"
   ]
  },
  {
   "cell_type": "markdown",
   "id": "6a04f82e-8b12-4e26-b1cc-a92c1c8f4462",
   "metadata": {},
   "source": [
    "        price = 9.99\n",
    "    \n",
    "    The variable 'price' belongs to the float data type.\n"
   ]
  },
  {
   "cell_type": "code",
   "execution_count": null,
   "id": "e2da05a2-f446-4d6c-acef-8a72a642c5ce",
   "metadata": {},
   "outputs": [],
   "source": []
  },
  {
   "cell_type": "markdown",
   "id": "ee4ccd72-7f42-45db-82aa-413eb19c4bdd",
   "metadata": {},
   "source": [
    "09. Creat a variable named name and assign your full name to it as a string. How would you print the\n",
    "value of this variable?\n"
   ]
  },
  {
   "cell_type": "code",
   "execution_count": 3,
   "id": "20cb564d-b8c6-492c-bec0-d4b861bd35a1",
   "metadata": {},
   "outputs": [
    {
     "name": "stdout",
     "output_type": "stream",
     "text": [
      "full name\n"
     ]
    }
   ],
   "source": [
    "name = \"full name\"\n",
    "print(name)\n"
   ]
  },
  {
   "cell_type": "code",
   "execution_count": null,
   "id": "6d0fcc3d-d03d-4945-92e7-1b54744278a4",
   "metadata": {},
   "outputs": [],
   "source": []
  },
  {
   "cell_type": "markdown",
   "id": "324b2e4b-0fbb-4410-87cf-f1e305f6be34",
   "metadata": {},
   "source": [
    "\n",
    "Q10. Given the string \"Hello, World!\", extract the substring \"World\".\n"
   ]
  },
  {
   "cell_type": "code",
   "execution_count": 5,
   "id": "f68e32d9-9a4b-4f38-a6fb-06b926aa4ca6",
   "metadata": {},
   "outputs": [
    {
     "name": "stdout",
     "output_type": "stream",
     "text": [
      "World\n"
     ]
    }
   ],
   "source": [
    "text = \"Hello, World!\"\n",
    "substring = text[7:12]\n",
    "print(substring) \n"
   ]
  },
  {
   "cell_type": "code",
   "execution_count": null,
   "id": "7ef3ff2a-2c79-4341-a092-adfd14bfbf90",
   "metadata": {},
   "outputs": [],
   "source": []
  },
  {
   "cell_type": "markdown",
   "id": "57e1d1ef-2af7-423c-a3fb-0e52f20aeb4a",
   "metadata": {},
   "source": [
    "\n",
    "\n",
    "Q11. Create a variable named \"is_student\" and assign it a boolean value indicating whether you are\n",
    "currently a student or not."
   ]
  },
  {
   "cell_type": "code",
   "execution_count": null,
   "id": "01e68bfc-fab7-492a-aa87-2a1191e93141",
   "metadata": {},
   "outputs": [],
   "source": [
    "is_student = True"
   ]
  },
  {
   "cell_type": "code",
   "execution_count": null,
   "id": "45210527-8cd8-4aba-939b-7797f7d0b0f8",
   "metadata": {},
   "outputs": [],
   "source": []
  }
 ],
 "metadata": {
  "kernelspec": {
   "display_name": "Python 3 (ipykernel)",
   "language": "python",
   "name": "python3"
  },
  "language_info": {
   "codemirror_mode": {
    "name": "ipython",
    "version": 3
   },
   "file_extension": ".py",
   "mimetype": "text/x-python",
   "name": "python",
   "nbconvert_exporter": "python",
   "pygments_lexer": "ipython3",
   "version": "3.10.8"
  }
 },
 "nbformat": 4,
 "nbformat_minor": 5
}
