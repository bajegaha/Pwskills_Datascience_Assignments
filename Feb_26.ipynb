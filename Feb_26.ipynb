{
 "cells": [
  {
   "cell_type": "markdown",
   "id": "1de46283-c9c9-4204-af47-c82af42963a2",
   "metadata": {},
   "source": [
    "<br><br><B>Consider the below code to answer further questions:</B>"
   ]
  },
  {
   "cell_type": "code",
   "execution_count": 7,
   "id": "159d125f-b3c2-4fcc-bcc7-ee2e69cc9f36",
   "metadata": {},
   "outputs": [],
   "source": [
    "import numpy as np\n",
    "\n",
    "list_ = ['1','2','3','4','5']\n",
    "\n",
    "array_list = np.array(object = list_)"
   ]
  },
  {
   "cell_type": "markdown",
   "id": "f94d6a41-c9af-4938-9e60-5b8db6212ed7",
   "metadata": {},
   "source": [
    "<B>Q1. Is there any difference in the data type of variables list_ and array_list? If there is then write a code\n",
    "to print the data types of both the variables.</B>"
   ]
  },
  {
   "cell_type": "markdown",
   "id": "19991e8e-d551-4589-86ec-dbcfb10a8d3e",
   "metadata": {},
   "source": [
    "Yes there is difference between data types of variable list_ and array_list. list_ is a Python list variable where as array_list is a Numpy variable created from list_ "
   ]
  },
  {
   "cell_type": "code",
   "execution_count": 8,
   "id": "abcffba6-f372-4838-af69-a33a5a0154f3",
   "metadata": {},
   "outputs": [
    {
     "name": "stdout",
     "output_type": "stream",
     "text": [
      "Data type of list_: <class 'list'>\n",
      "Data type of array_list: <class 'numpy.ndarray'>\n"
     ]
    }
   ],
   "source": [
    "import numpy as np\n",
    "\n",
    "list_ = ['1', '2', '3', '4', '5']\n",
    "array_list = np.array(object=list_)\n",
    "\n",
    "# Check the data types\n",
    "print(f'Data type of list_: {type(list_)}')\n",
    "print(f'Data type of array_list: {type(array_list)}')\n"
   ]
  },
  {
   "cell_type": "markdown",
   "id": "96ec7b8d-e07f-4ec4-ad8d-193e6c74d8b0",
   "metadata": {},
   "source": [
    "<br><br><B>Q2. Write a code to print the data type of each and every element of both the variables list_ and\n",
    "arra_list.</B>"
   ]
  },
  {
   "cell_type": "code",
   "execution_count": 10,
   "id": "01b8a119-b6d1-4743-b3c2-33af0da73fe0",
   "metadata": {},
   "outputs": [
    {
     "name": "stdout",
     "output_type": "stream",
     "text": [
      "Data type of element in list_: <class 'str'>\n",
      "Data type of element in list_: <class 'str'>\n",
      "Data type of element in list_: <class 'str'>\n",
      "Data type of element in list_: <class 'str'>\n",
      "Data type of element in list_: <class 'str'>\n",
      "Data type of element in array_list: <class 'numpy.str_'>\n",
      "Data type of element in array_list: <class 'numpy.str_'>\n",
      "Data type of element in array_list: <class 'numpy.str_'>\n",
      "Data type of element in array_list: <class 'numpy.str_'>\n",
      "Data type of element in array_list: <class 'numpy.str_'>\n"
     ]
    }
   ],
   "source": [
    "import numpy as np\n",
    "\n",
    "list_ = ['1', '2', '3', '4', '5']\n",
    "array_list = np.array(object=list_)\n",
    "\n",
    "# Print data type of each element\n",
    "for x in list_:\n",
    "    print(f'Data type of element in list_: {type(x)}')\n",
    "\n",
    "for x in array_list:\n",
    "    print(f'Data type of element in array_list: {type(x)}')\n"
   ]
  },
  {
   "cell_type": "markdown",
   "id": "548a25d9-6916-4bc1-ae31-952c95439957",
   "metadata": {},
   "source": [
    "<br><br><br><B>Q3. Considering the following changes in the variable, array_list:<br>\n",
    "array_list = np.array(object = list_, dtype = int)</B><br><br>\n",
    "Will there be any difference in the data type of the elements present in both the variables, list_ and\n",
    "arra_list? If so then print the data types of each and every element present in both the variables, list_\n",
    "and arra_list."
   ]
  },
  {
   "cell_type": "code",
   "execution_count": 12,
   "id": "b84786d9-1168-4a29-b791-2b6aad8c78ff",
   "metadata": {},
   "outputs": [
    {
     "name": "stdout",
     "output_type": "stream",
     "text": [
      "Data type of element in list_: <class 'str'>\n",
      "Data type of element in list_: <class 'str'>\n",
      "Data type of element in list_: <class 'str'>\n",
      "Data type of element in list_: <class 'str'>\n",
      "Data type of element in list_: <class 'str'>\n",
      "Data type of element in array_list: <class 'numpy.int64'>\n",
      "Data type of element in array_list: <class 'numpy.int64'>\n",
      "Data type of element in array_list: <class 'numpy.int64'>\n",
      "Data type of element in array_list: <class 'numpy.int64'>\n",
      "Data type of element in array_list: <class 'numpy.int64'>\n"
     ]
    }
   ],
   "source": [
    "import numpy as np\n",
    "\n",
    "list_ = ['1', '2', '3', '4', '5']\n",
    "array_list = np.array(object=list_, dtype=int)\n",
    "\n",
    "# Print data type of each element after the change in array_list\n",
    "for element in list_:\n",
    "    print(f'Data type of element in list_: {type(element)}')\n",
    "\n",
    "for element in array_list:\n",
    "    print(f'Data type of element in array_list: {type(element)}')\n"
   ]
  },
  {
   "cell_type": "markdown",
   "id": "d158c4fa-bd34-4a55-89a2-f163f1abe300",
   "metadata": {},
   "source": [
    "<br><br><br><B>Consider the below code to answer further questions:<br></B>\n",
    "import numpy as np<br>\n",
    "num_list = [ [ 1 , 2 , 3 ] , [ 4 , 5 , 6 ] ]<br>\n",
    "num_array = np.array(object = num_list)"
   ]
  },
  {
   "cell_type": "markdown",
   "id": "dbd0c2fa-4a30-4f04-8b54-711e077a331a",
   "metadata": {},
   "source": [
    "<B>Q4. Write a code to find the following characteristics of variable, num_array:<br></B>\n",
    "(i) shape<br>\n",
    "(ii) size"
   ]
  },
  {
   "cell_type": "code",
   "execution_count": 15,
   "id": "d8e0199a-a8de-4a18-b586-2628b8116113",
   "metadata": {},
   "outputs": [
    {
     "name": "stdout",
     "output_type": "stream",
     "text": [
      "shape of num_array (2, 3)\n",
      "size of num_array 6\n"
     ]
    }
   ],
   "source": [
    "import numpy as np\n",
    "num_list = [ [ 1 , 2 , 3 ] , [ 4 , 5 , 6 ] ]\n",
    "num_array = np.array(object = num_list)\n",
    "#shape of num_array\n",
    "print(f\"shape of num_array\", num_array.shape)\n",
    "#size of num_array\n",
    "print(f\"size of num_array\", num_array.size)"
   ]
  },
  {
   "cell_type": "markdown",
   "id": "fc5941c0-472c-4c72-9bb3-75446dddee7a",
   "metadata": {},
   "source": [
    "<br><br><B>Q5. Write a code to create numpy array of 3*3 matrix containing zeros only, using a numpy array\n",
    "creation function.</B><br>[Hint: The size of the array will be 9 and the shape will be (3,3).]"
   ]
  },
  {
   "cell_type": "code",
   "execution_count": 18,
   "id": "d86b6ed2-95ca-4982-8f25-55fc8c7ee59f",
   "metadata": {},
   "outputs": [
    {
     "name": "stdout",
     "output_type": "stream",
     "text": [
      "[[0 0 0]\n",
      " [0 0 0]\n",
      " [0 0 0]]\n",
      "9\n",
      "(3, 3)\n"
     ]
    }
   ],
   "source": [
    "import numpy as np\n",
    "data=np.random.randint(0,1,(3,3))\n",
    "print(data)\n",
    "print(data.size)\n",
    "print(data.shape)"
   ]
  },
  {
   "cell_type": "markdown",
   "id": "f8fdcc6b-9e74-4823-a21e-b20985605660",
   "metadata": {},
   "source": [
    "\n",
    "<br><br><B>\n",
    "Q6. Create an identity matrix of shape (5,5) using numpy functions?<br></B>\n",
    "[Hint: An identity matrix is a matrix containing 1 diagonally and other elements will be 0.]"
   ]
  },
  {
   "cell_type": "code",
   "execution_count": 21,
   "id": "c8194592-019e-4b08-8a04-ae077aa33135",
   "metadata": {},
   "outputs": [
    {
     "name": "stdout",
     "output_type": "stream",
     "text": [
      "[[1 0 0 0 0]\n",
      " [0 1 0 0 0]\n",
      " [0 0 1 0 0]\n",
      " [0 0 0 1 0]\n",
      " [0 0 0 0 1]]\n"
     ]
    }
   ],
   "source": [
    "import numpy as np\n",
    "data1=np.diag([1,1,1,1,1,])\n",
    "print(data1)"
   ]
  }
 ],
 "metadata": {
  "kernelspec": {
   "display_name": "Python 3 (ipykernel)",
   "language": "python",
   "name": "python3"
  },
  "language_info": {
   "codemirror_mode": {
    "name": "ipython",
    "version": 3
   },
   "file_extension": ".py",
   "mimetype": "text/x-python",
   "name": "python",
   "nbconvert_exporter": "python",
   "pygments_lexer": "ipython3",
   "version": "3.10.8"
  }
 },
 "nbformat": 4,
 "nbformat_minor": 5
}
