{
 "cells": [
  {
   "cell_type": "code",
   "execution_count": null,
   "id": "56c514c8-f2dd-4024-80d4-4ecebf26d375",
   "metadata": {},
   "outputs": [],
   "source": []
  },
  {
   "cell_type": "markdown",
   "id": "c46e0527-7456-401c-b9e7-d35ae478892f",
   "metadata": {},
   "source": [
    "OOPS Assignments 05_Feb "
   ]
  },
  {
   "cell_type": "markdown",
   "id": "1cfb06e5-3e2f-494e-a5eb-d5edefe9c350",
   "metadata": {},
   "source": [
    "\n",
    "Q1. Explain Class and Object with respect to Object-Oriented Programming. Give a suitable example."
   ]
  },
  {
   "cell_type": "markdown",
   "id": "db4f8cb8-38c5-45c1-a29b-4c9cc9235345",
   "metadata": {},
   "source": [
    " Ans: Class is a blueprint or template for creating object. It is logical entity. \n",
    " Object is an instances of class. It is real world entity that has attribute and behaviour as defined by its class.\n",
    " \n"
   ]
  },
  {
   "cell_type": "code",
   "execution_count": 3,
   "id": "4c0777c1-48be-4b7a-be5d-42b0b24c64bb",
   "metadata": {},
   "outputs": [],
   "source": [
    "class car:\n",
    "    def __init__(self, model, year):\n",
    "        self.model = model \n",
    "        self.year = year\n",
    "        \n",
    "    def display(self):\n",
    "        print(f\" This car is {self.model} and made in {self.year}\")\n",
    "        \n",
    "car1 = car(\"Toyoto\", 2022)\n",
    "car2 = car(\"Telsa\", 2022)"
   ]
  },
  {
   "cell_type": "code",
   "execution_count": null,
   "id": "c7e93b95-4d90-460f-9667-56a81ea041d0",
   "metadata": {},
   "outputs": [],
   "source": []
  },
  {
   "cell_type": "markdown",
   "id": "6e3861b4-1ade-422e-bb93-df9a523b6a98",
   "metadata": {},
   "source": [
    "Q2. Name the four pillars of OOPs."
   ]
  },
  {
   "cell_type": "markdown",
   "id": "876c5056-059d-4cec-b554-6a2d2f4f6321",
   "metadata": {},
   "source": [
    "Ans: The  pillars of OOPS are Abstraction, Inheritance, Encapsulation and  Polymorphism."
   ]
  },
  {
   "cell_type": "code",
   "execution_count": null,
   "id": "44508a3d-5d7b-4648-8bf2-6c36aa13734d",
   "metadata": {},
   "outputs": [],
   "source": []
  },
  {
   "cell_type": "code",
   "execution_count": null,
   "id": "519d1aaa-7c14-4821-a4fe-744a9128b4f6",
   "metadata": {},
   "outputs": [],
   "source": []
  },
  {
   "cell_type": "markdown",
   "id": "9c4b54bf-b45b-4cb3-b73d-b69b22975662",
   "metadata": {},
   "source": [
    "Q3. Explain why the __init__() function is used. Give a suitable example."
   ]
  },
  {
   "cell_type": "markdown",
   "id": "60063c2c-7bea-4021-b27b-e44c9cf18207",
   "metadata": {},
   "source": [
    "Ans:  __init__() function is a special method in Python classes that is automatically called when a new instance of the class is created. It is used to initialize the object's attributes."
   ]
  },
  {
   "cell_type": "code",
   "execution_count": 4,
   "id": "47835149-6a8b-49cb-8d38-bfdd99982561",
   "metadata": {},
   "outputs": [
    {
     "name": "stdout",
     "output_type": "stream",
     "text": [
      " This car is Toyoto and made in 2022\n"
     ]
    }
   ],
   "source": [
    "class car:\n",
    "    def __init__(self, model, year):\n",
    "        self.model = model \n",
    "        self.year = year\n",
    "        \n",
    "    def display(self):\n",
    "        print(f\" This car is {self.model} and made in {self.year}\")\n",
    "        \n",
    "car1 = car(\"Toyoto\", 2022)\n",
    "car2 = car(\"Telsa\", 2022)\n",
    "car1.display()"
   ]
  },
  {
   "cell_type": "code",
   "execution_count": null,
   "id": "4e195c21-2791-4a79-88ac-6273b17fcaa3",
   "metadata": {},
   "outputs": [],
   "source": []
  },
  {
   "cell_type": "markdown",
   "id": "92a9b7de-ad0a-4798-9cce-b8caddbebaa0",
   "metadata": {},
   "source": [
    "Q4. Why self is used in OOPs?"
   ]
  },
  {
   "cell_type": "markdown",
   "id": "95997c3c-9dc4-4045-b17b-f645d08ead67",
   "metadata": {},
   "source": [
    "Ans:     'self' is a reference to the instance of the class itself. It is used to access the attributes and methods of the class in Python."
   ]
  },
  {
   "cell_type": "code",
   "execution_count": null,
   "id": "1bcdde5a-3994-459d-98d0-91b0b4916d24",
   "metadata": {},
   "outputs": [],
   "source": []
  },
  {
   "cell_type": "code",
   "execution_count": null,
   "id": "229795a0-5a5f-4c8b-96bb-729cd544932d",
   "metadata": {},
   "outputs": [],
   "source": []
  },
  {
   "cell_type": "markdown",
   "id": "63987bd0-0e9d-47a2-a254-453eaa564dd0",
   "metadata": {},
   "source": [
    "Q5. What is inheritance? Give an example for each type of inheritance."
   ]
  },
  {
   "cell_type": "markdown",
   "id": "e7be1062-370e-4442-88f0-8257060edf7f",
   "metadata": {},
   "source": [
    "Ans:    Inheritance is a mechanism in OOP that allows a class to inherit properties and behavior from another class."
   ]
  },
  {
   "cell_type": "markdown",
   "id": "9069eddd-ffbd-4c7b-9dd7-df0c2cbcefd1",
   "metadata": {},
   "source": [
    "Single Inheritance"
   ]
  },
  {
   "cell_type": "code",
   "execution_count": null,
   "metadata": {},
   "outputs": [],
   "source": [
    "# Parent class\n",
    "class Animal:\n",
    "    def sound(self):\n",
    "        pass\n",
    "\n",
    "# Child class inheriting from Animal\n",
    "class Dog(Animal):\n",
    "    def sound(self):\n",
    "        return \"Woof!\"\n",
    "\n",
    "# Creating an instance of the Dog class\n",
    "my_dog = Dog()\n",
    "print(my_dog.sound())  # Output: Woof!\n"
   ]
  },
  {
   "cell_type": "markdown",
   "id": "c5b2c4ac-a564-4d23-b586-a33f0198e35c",
   "metadata": {},
   "source": [
    "Multiple Inheritance"
   ]
  },
  {
   "cell_type": "code",
   "execution_count": null,
   "metadata": {},
   "outputs": [],
   "source": [
    "# Parent classes\n",
    "class Fish:\n",
    "    def swim(self):\n",
    "        return \"Fish can swim\"\n",
    "\n",
    "class Mammal:\n",
    "    def run(self):\n",
    "        return \"Mammals can run\"\n",
    "\n",
    "# Child class inheriting from both Fish and Mammal\n",
    "class Dolphin(Fish, Mammal):\n",
    "    pass\n",
    "\n",
    "# Creating an instance of the Dolphin class\n",
    "my_dolphin = Dolphin()\n",
    "print(my_dolphin.swim())  # Output: Fish can swim\n",
    "print(my_dolphin.run())   # Output: Mammals can run\n"
   ]
  },
  {
   "cell_type": "markdown",
   "id": "4caedacc-6bd1-477c-bdda-f1848f007ac1",
   "metadata": {},
   "source": [
    "Multilevel Inheritance"
   ]
  },
  {
   "cell_type": "code",
   "execution_count": null,
   "metadata": {},
   "outputs": [],
   "source": [
    "\n",
    "# Parent class\n",
    "class Animal:\n",
    "    def breathe(self):\n",
    "        return \"All animals breathe\"\n",
    "\n",
    "# Child class inheriting from Animal\n",
    "class LandAnimal(Animal):\n",
    "    def walk(self):\n",
    "        return \"Land animals can walk\"\n",
    "\n",
    "# Grandchild class inheriting from LandAnimal\n",
    "class Dog(LandAnimal):\n",
    "    def sound(self):\n",
    "        return \"Woof!\"\n",
    "\n",
    "# Creating an instance of the Dog class\n",
    "my_dog = Dog()\n",
    "print(my_dog.breathe())  # Output: All animals breathe\n",
    "print(my_dog.walk())     # Output: Land animals can walk\n",
    "print(my_dog.sound())    # Output: Woof!\n"
   ]
  },
  {
   "cell_type": "markdown",
   "id": "83415648-4532-4a84-aef6-3b2edc2cb678",
   "metadata": {},
   "source": [
    "Hierarchical Inheritance"
   ]
  },
  {
   "cell_type": "code",
   "execution_count": null,
   "id": "6aed2e47-bf3c-4deb-a411-bbfd161fbc0f",
   "metadata": {},
   "outputs": [],
   "source": [
    "# Parent class\n",
    "class Animal:\n",
    "    def breathe(self):\n",
    "        return \"All animals breathe\"\n",
    "\n",
    "# Child classes inheriting from Animal\n",
    "class Dog(Animal):\n",
    "    def sound(self):\n",
    "        return \"Woof!\"\n",
    "\n",
    "class Cat(Animal):\n",
    "    def sound(self):\n",
    "        return \"Meow!\"\n",
    "\n",
    "# Creating instances of the Dog and Cat classes\n",
    "my_dog = Dog()\n",
    "my_cat = Cat()\n",
    "print(my_dog.breathe())  # Output: All animals breathe\n",
    "print(my_dog.sound())    # Output: Woof!\n",
    "print(my_cat.breathe())  # Output: All animals breathe\n",
    "print(my_cat.sound())    # Output: Meow!\n"
   ]
  }
 ],
 "metadata": {
  "kernelspec": {
   "display_name": "Python 3 (ipykernel)",
   "language": "python",
   "name": "python3"
  },
  "language_info": {
   "codemirror_mode": {
    "name": "ipython",
    "version": 3
   },
   "file_extension": ".py",
   "mimetype": "text/x-python",
   "name": "python",
   "nbconvert_exporter": "python",
   "pygments_lexer": "ipython3",
   "version": "3.10.8"
  }
 },
 "nbformat": 4,
 "nbformat_minor": 5
}
