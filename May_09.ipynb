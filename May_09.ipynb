{
 "cells": [
  {
   "cell_type": "code",
   "execution_count": null,
   "id": "e1acf108-6eb5-44e0-b65e-18a13dac91a8",
   "metadata": {},
   "outputs": [],
   "source": []
  },
  {
   "cell_type": "markdown",
   "id": "66e431a9-0e3c-4a30-bd62-a908f940677f",
   "metadata": {},
   "source": [
    "Assignment-1"
   ]
  },
  {
   "cell_type": "markdown",
   "id": "615a95dd-8f1b-4b54-b396-03c4208cdc2c",
   "metadata": {},
   "source": [
    "Q1. Creating one variable containing:\n",
    "\n",
    "i) string \n",
    "\n",
    "Ans : name =\"Hello world!\"\n",
    "\n",
    "ii) list\n",
    "\n",
    "Ans: list1= [1,2,4,5]\n",
    "\n",
    "iii) float\n",
    "\n",
    "Ans:Var_flaot = 1.34\n",
    "\n",
    "iv) tuple\n",
    "\n",
    "Ans: Var_tuple = (1,2,3,4,6)\n"
   ]
  },
  {
   "cell_type": "code",
   "execution_count": null,
   "id": "21931c22-d777-4def-8ff6-f4787ae76764",
   "metadata": {},
   "outputs": [],
   "source": []
  },
  {
   "cell_type": "markdown",
   "id": "4e9115bd-952c-4180-aecf-9bbc0d91f156",
   "metadata": {},
   "source": [
    "Q2. \n",
    "\n",
    "var1 =\"\" \n",
    "\n",
    "var2 = ‘[ DS , ML , Python]’\n",
    "\n",
    "var3 = [ ‘DS’ , ’ML’ , ‘Python’ ]\n",
    "\n",
    "var4 = 1.\n",
    "\n",
    "Answers:\n",
    "\n",
    "var1 is a variable of type of string.\n",
    "\n",
    "var2 is a variable of type of string.\n",
    "\n",
    "var3 is a variable of type of list\n",
    "\n",
    "var3 is a variable of type of float\n",
    "\n"
   ]
  },
  {
   "cell_type": "code",
   "execution_count": null,
   "id": "0b060b64-f9af-41e3-ac54-16afc274e677",
   "metadata": {},
   "outputs": [],
   "source": []
  },
  {
   "cell_type": "markdown",
   "id": "04e5a8af-b0ee-4309-9937-92a70e383fae",
   "metadata": {},
   "source": [
    "Q3. Explain the use of the following operators using an example:\n",
    "    \n",
    "(i) /\n",
    "\n",
    "(ii) %\n",
    "\n",
    "(iii) //\n",
    "\n",
    "(iv) **\n",
    "\n",
    "Answers:\n",
    "\n",
    "/  divides two numbers and return a floating point numbers.\n",
    "\n",
    "% returns the remainder of the division of two numbers.\n",
    "\n",
    "// returns the quotient of the division, removing the fractional part.\n",
    "\n",
    "** raises the first number to the power of the second.\n"
   ]
  },
  {
   "cell_type": "code",
   "execution_count": null,
   "id": "cb11102d-c142-490f-a59e-d04a226830e0",
   "metadata": {},
   "outputs": [],
   "source": []
  },
  {
   "cell_type": "markdown",
   "id": "7f7ea30e-c75e-46bd-8cb3-e4b6f0a900b2",
   "metadata": {},
   "source": [
    "Q4. Create a list of length 10 of your choice containing multiple types of data. Using for loop print the\n",
    "element and its data type."
   ]
  },
  {
   "cell_type": "markdown",
   "id": "33ad1e90-3ff5-440d-82dc-5e026ac68c80",
   "metadata": {},
   "source": [
    "ans:\n",
    "    "
   ]
  },
  {
   "cell_type": "code",
   "execution_count": 6,
   "id": "f88c1315-151f-4443-a06a-690a312c16b2",
   "metadata": {},
   "outputs": [
    {
     "name": "stdout",
     "output_type": "stream",
     "text": [
      "1 <class 'int'>\n",
      "2 <class 'int'>\n",
      "3 <class 'int'>\n",
      "4 <class 'int'>\n",
      "True <class 'bool'>\n",
      "Hello <class 'str'>\n",
      "(1, 2) <class 'tuple'>\n",
      "False <class 'bool'>\n",
      "1.23 <class 'float'>\n",
      "pwskills <class 'str'>\n"
     ]
    }
   ],
   "source": [
    "list1 = [ 1,2,3,4,True, \"Hello\" , (1,2),False, 1.23, \"pwskills\" ]\n",
    "for i in list1:\n",
    "    print ( i , type(i))"
   ]
  },
  {
   "cell_type": "code",
   "execution_count": null,
   "id": "93684f23-95c9-4d34-a9f0-a27c18e02128",
   "metadata": {},
   "outputs": [],
   "source": []
  },
  {
   "cell_type": "markdown",
   "id": "07a686c0-00ed-4364-8bd0-c82e84de56a8",
   "metadata": {},
   "source": [
    "Q4.\n",
    "using while loop verify if the number A is purely divisible by number B and if then how many times "
   ]
  },
  {
   "cell_type": "code",
   "execution_count": 12,
   "id": "e087073f-0a00-4a3d-ad04-18c627181bf7",
   "metadata": {},
   "outputs": [
    {
     "name": "stdout",
     "output_type": "stream",
     "text": [
      "Enter the number1: 100\n",
      "Enter the number2: 2\n"
     ]
    },
    {
     "name": "stdout",
     "output_type": "stream",
     "text": [
      "A is purely divisible by B and 2 times.\n"
     ]
    }
   ],
   "source": [
    "numA = int(input(\"Enter the number1:\"))\n",
    "numB = int(input(\"Enter the number2:\"))\n",
    "\n",
    "\n",
    "if numA % numB !=0:\n",
    "    print(\"A is not purely divisible by B.\")\n",
    "    \n",
    "else:\n",
    "    count =0\n",
    "    while numA % numB ==0:\n",
    "        numA = numA / numB\n",
    "        count +=1\n",
    "        \n",
    "    print(f\"A is purely divisible by B and {count} times.\")\n",
    "        "
   ]
  },
  {
   "cell_type": "code",
   "execution_count": null,
   "id": "fd7f0549-6012-41d0-a554-c427e25e2e35",
   "metadata": {},
   "outputs": [],
   "source": []
  },
  {
   "cell_type": "markdown",
   "id": "c3c2a1ce-35df-4494-971d-297920b097ca",
   "metadata": {},
   "source": [
    "Q6. Create a list containing 25 int type data. Using for loop and if-else condition print if the element is\n",
    "divisible by 3 or not."
   ]
  },
  {
   "cell_type": "code",
   "execution_count": 16,
   "id": "7a00823a-289e-441b-b434-a2e437fbd24f",
   "metadata": {},
   "outputs": [
    {
     "name": "stdout",
     "output_type": "stream",
     "text": [
      " 1 Not divisible by 3\n",
      " 3 Divisible by 3 \n",
      " 4 Not divisible by 3\n",
      " 5 Not divisible by 3\n",
      " 6 Divisible by 3 \n",
      " 898 Not divisible by 3\n",
      " 9 Divisible by 3 \n",
      " 90 Divisible by 3 \n",
      " 61 Not divisible by 3\n",
      " 99 Divisible by 3 \n",
      " 7 Not divisible by 3\n",
      " 999 Divisible by 3 \n",
      " 145 Not divisible by 3\n",
      " 1010 Not divisible by 3\n",
      " 12 Divisible by 3 \n",
      " 67 Not divisible by 3\n",
      " 79 Not divisible by 3\n",
      " 100 Not divisible by 3\n",
      " 89 Not divisible by 3\n",
      " 65 Not divisible by 3\n",
      " 32 Not divisible by 3\n",
      " 13 Not divisible by 3\n",
      " 9090 Divisible by 3 \n",
      " 879 Divisible by 3 \n",
      " 908 Not divisible by 3\n"
     ]
    }
   ],
   "source": [
    "list1 = [1,3,4,5,6,898,9,90,61,99,7,999,145,1010,12,67,79,100,89,65,32,13,9090,879,908\n",
    "    ]\n",
    "for i in list1:\n",
    "    if i % 3 ==0:\n",
    "        print(f\" {i} Divisible by 3 \")\n",
    "        \n",
    "    else:\n",
    "        print(f\" {i} Not divisible by 3\")\n",
    "    "
   ]
  },
  {
   "cell_type": "code",
   "execution_count": null,
   "id": "70d3549e-e2ba-4241-8974-d99a831286fb",
   "metadata": {},
   "outputs": [],
   "source": []
  },
  {
   "cell_type": "code",
   "execution_count": null,
   "id": "bb65816b-4a62-4986-9c0c-02d222637ee0",
   "metadata": {},
   "outputs": [],
   "source": []
  },
  {
   "cell_type": "markdown",
   "id": "6ac48385-8c38-457a-b35f-60572bb65cf7",
   "metadata": {},
   "source": [
    "Q7. What do you understand about mutable and immutable data types? Give examples for both showing\n",
    "this property."
   ]
  },
  {
   "cell_type": "markdown",
   "id": "8676a864-a7d1-4ea5-8efa-e2ea9040ca03",
   "metadata": {},
   "source": [
    "Mutable data can be chnaged after they are created, for example, list and dictionaries,\n",
    "\n",
    "\n"
   ]
  },
  {
   "cell_type": "code",
   "execution_count": 18,
   "id": "7868514f-0a57-4d2f-98e9-1d98025d3be9",
   "metadata": {},
   "outputs": [
    {
     "name": "stdout",
     "output_type": "stream",
     "text": [
      "[1, 2, 9, 4]\n"
     ]
    }
   ],
   "source": [
    "myList = [1,2,3,4]\n",
    "myList[2] = 9\n",
    "print(myList)"
   ]
  },
  {
   "cell_type": "markdown",
   "id": "6bb4fe01-c867-4b91-8360-6c3089a4c787",
   "metadata": {},
   "source": [
    "Immutable data types cannot be changed once they are created, tuples and strings, are some examples."
   ]
  },
  {
   "cell_type": "code",
   "execution_count": null,
   "id": "ad5371fa-009e-4726-ba84-325d7cda2b1e",
   "metadata": {},
   "outputs": [
    {
     "ename": "TypeError",
     "evalue": "'tuple' object does not support item assignment",
     "output_type": "error",
     "traceback": [
      "\u001b[0;31m---------------------------------------------------------------------------\u001b[0m",
      "\u001b[0;31mTypeError\u001b[0m                                 Traceback (most recent call last)",
      "Cell \u001b[0;32mIn[19], line 2\u001b[0m\n\u001b[1;32m      1\u001b[0m tuple1 \u001b[38;5;241m=\u001b[39m ( \u001b[38;5;241m1\u001b[39m, \u001b[38;5;241m3\u001b[39m, \u001b[38;5;241m4\u001b[39m, \u001b[38;5;241m5\u001b[39m)\n\u001b[0;32m----> 2\u001b[0m \u001b[43mtuple1\u001b[49m\u001b[43m[\u001b[49m\u001b[38;5;241;43m1\u001b[39;49m\u001b[43m]\u001b[49m \u001b[38;5;241m=\u001b[39m \u001b[38;5;241m88\u001b[39m\n",
      "\u001b[0;31mTypeError\u001b[0m: 'tuple' object does not support item assignment"
     ]
    }
   ],
   "source": [
    "tuple1 = ( 1, 3, 4, 5)\n",
    "tuple1[1] = 88"
   ]
  },
  {
   "cell_type": "code",
   "execution_count": null,
   "id": "243b5f3f-cf3a-4b13-91b4-7ec517ef3390",
   "metadata": {},
   "outputs": [],
   "source": []
  }
 ],
 "metadata": {
  "kernelspec": {
   "display_name": "Python 3 (ipykernel)",
   "language": "python",
   "name": "python3"
  },
  "language_info": {
   "codemirror_mode": {
    "name": "ipython",
    "version": 3
   },
   "file_extension": ".py",
   "mimetype": "text/x-python",
   "name": "python",
   "nbconvert_exporter": "python",
   "pygments_lexer": "ipython3",
   "version": "3.10.8"
  }
 },
 "nbformat": 4,
 "nbformat_minor": 5
}
