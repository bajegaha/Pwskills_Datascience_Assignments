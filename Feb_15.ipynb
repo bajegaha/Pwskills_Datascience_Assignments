{
  "nbformat": 4,
  "nbformat_minor": 0,
  "metadata": {
    "colab": {
      "provenance": [],
      "toc_visible": true
    },
    "kernelspec": {
      "name": "python3",
      "display_name": "Python 3"
    },
    "language_info": {
      "name": "python"
    }
  },
  "cells": [
    {
      "cell_type": "code",
      "execution_count": null,
      "metadata": {
        "id": "x2gn_d9bLQ5p"
      },
      "outputs": [],
      "source": []
    },
    {
      "cell_type": "markdown",
      "source": [
        "Q1. <B>What is multiprocessing in python? </B><B> Why is it useful?</B>\n",
        "\n",
        "\n",
        "\n",
        "   <br>Ans:\n",
        "Multiprocessing is a Python module that supports the spawning of processes using an API similar to the threading module. It allows you to create multiple processes, each with its own Python interpreter, memory space, and resources. These processes can run concurrently and independently of each other."
      ],
      "metadata": {
        "id": "wokyRvVYMDuz"
      }
    },
    {
      "cell_type": "markdown",
      "source": [
        "**Q2. What are the differences between multiprocessing and multithreading?**\n",
        "\n",
        "<br>Ans:Based on different features their differences are given below\n",
        "\n",
        "**Resource Utilization:**\n",
        "\n",
        "**Multiprocessing**: Utilizes multiple CPU cores effectively, suitable for CPU-bound tasks.\n",
        "**Multithreading:** Useful for I/O-bound tasks, as threads can overlap I/O operations while waiting for data.\n",
        "Performance:\n",
        "\n",
        "**Multiprocessing:** Can provide better performance for CPU-bound tasks due to parallel execution.\n",
        "**Multithreading:** May not offer significant performance improvement for CPU-bound tasks due to the GIL.\n",
        "Memory Overhead:\n",
        "\n",
        "**Multiprocessing:** Involves separate memory space for each process, leading to higher memory overhead.\n",
        "Multithreading: Shares the same memory space, resulting in lower memory overhead compared to multiprocessing.\n",
        "\n",
        "\n",
        "\n",
        "\n"
      ],
      "metadata": {
        "id": "5k40pWjCMD0Z"
      }
    },
    {
      "cell_type": "markdown",
      "source": [
        "**Q3. Write a python code to create a process using the multiprocessing module.**\n",
        "\n",
        "\n",
        "---\n",
        "\n"
      ],
      "metadata": {
        "id": "3COSty4MMD2_"
      }
    },
    {
      "cell_type": "code",
      "source": [
        "import multiprocessing\n",
        "import os\n",
        "\n",
        "def process_function():\n",
        "    \"\"\"Function to be executed by the created process.\"\"\"\n",
        "    print(f\"Process ID: {os.getpid()}\")  # Get current process ID\n",
        "    print(\"This is a child process.\")\n",
        "\n",
        "if __name__ == \"__main__\":\n",
        "    # Create a process\n",
        "    new_process = multiprocessing.Process(target=process_function)\n",
        "\n",
        "    # Start the process\n",
        "    new_process.start()\n",
        "\n",
        "    # Wait for the process to finish\n",
        "    new_process.join()\n",
        "\n",
        "    print(\"Main process ends\")\n"
      ],
      "metadata": {
        "colab": {
          "base_uri": "https://localhost:8080/",
          "height": 0
        },
        "id": "0CKD6WODOcFv",
        "outputId": "9e07eceb-485f-461e-b4f1-d568a54e0927"
      },
      "execution_count": 1,
      "outputs": [
        {
          "output_type": "stream",
          "name": "stdout",
          "text": [
            "Process ID: 514\n",
            "This is a child process.\n",
            "Main process ends\n"
          ]
        }
      ]
    },
    {
      "cell_type": "markdown",
      "source": [
        "\n",
        "\n",
        "**Q4. What is a multiprocessing pool in python? Why is it used?**\n",
        "\n",
        "A multiprocessing pool in Python refers to a collection of worker processes that are used to distribute tasks across multiple CPUs or cores in parallel. It's a part of the multiprocessing module and provides a convenient way to parallelize the execution of a function across a large dataset or multiple tasks.<br>\n",
        "It is used because it  manages a set of worker processes and distributes tasks across these processes for parallel execution. Also handle tasks in parallel, working on different elements of an iterable or performing different function calls concurrently.</br>\n"
      ],
      "metadata": {
        "id": "H9XbQyVDMD7I"
      }
    },
    {
      "cell_type": "markdown",
      "source": [
        "**Q5. How can we create a pool of worker processes in python using the multiprocessing module?**\n",
        "\n",
        "\n",
        "In Python's multiprocessing module, creating a pool of worker processes involves using the Pool class. This class provides a convenient way to manage a pool of worker processes for parallel execution of tasks.\n"
      ],
      "metadata": {
        "id": "U4wOxOUnMD9J"
      }
    },
    {
      "cell_type": "markdown",
      "source": [
        "**Q6. Write a python program to create 4 processes, each process should print a different number using the\n",
        "multiprocessing module in python.**"
      ],
      "metadata": {
        "id": "xtHtPUgOMD_8"
      }
    },
    {
      "cell_type": "code",
      "source": [
        "import multiprocessing\n",
        "\n",
        "# Function to square a number\n",
        "def square_number(x):\n",
        "    return x * x\n",
        "\n",
        "if __name__ == \"__main__\":\n",
        "    # Create a Pool with 4 worker processes\n",
        "    with multiprocessing.Pool(processes=4) as pool:\n",
        "        # Define a list of numbers\n",
        "        numbers = [1, 2, 3, 4, 5]\n",
        "\n",
        "        # Apply the function to the list of numbers using pool.map()\n",
        "        results = pool.map(square_number, numbers)\n",
        "\n",
        "    # Print the results\n",
        "    print(\"Results:\", results)\n"
      ],
      "metadata": {
        "colab": {
          "base_uri": "https://localhost:8080/",
          "height": 0
        },
        "id": "NVC0VTgpQY6B",
        "outputId": "fecf7a87-0803-4b0f-df19-fe7a0e1b30ff"
      },
      "execution_count": 3,
      "outputs": [
        {
          "output_type": "stream",
          "name": "stdout",
          "text": [
            "Results: [1, 4, 9, 16, 25]\n"
          ]
        }
      ]
    },
    {
      "cell_type": "code",
      "source": [],
      "metadata": {
        "id": "nbc4dMasRwZh"
      },
      "execution_count": null,
      "outputs": []
    }
  ]
}