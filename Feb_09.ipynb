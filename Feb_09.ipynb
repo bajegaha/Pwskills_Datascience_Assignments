{
 "cells": [
  {
   "cell_type": "code",
   "execution_count": null,
   "id": "6ef116ed-2adf-4344-b7aa-6b3e882b8fec",
   "metadata": {},
   "outputs": [],
   "source": []
  },
  {
   "cell_type": "markdown",
   "id": "b693fa0a-9517-441e-a583-cf06be236ecf",
   "metadata": {},
   "source": [
    "Q1, Create a vehicle class with an init method having instance variables as name_of_vehicle, max_speed\n",
    "and average_of_vehicle."
   ]
  },
  {
   "cell_type": "code",
   "execution_count": 37,
   "id": "e2e0c49e-12af-4e4e-a71f-baaf957efee3",
   "metadata": {},
   "outputs": [],
   "source": [
    "class vehicle:\n",
    "    def __init__(self, name_of_vehicle, max_speed, average_of_vehicle):\n",
    "        self.name_of_vehicle = name_of_vehicle\n",
    "        self.max_speed = max_speed\n",
    "        self.average_of_vehicle = average_of_vehicle\n"
   ]
  },
  {
   "cell_type": "markdown",
   "id": "c235e131-22d8-424a-ad41-318ff94cddce",
   "metadata": {},
   "source": [
    "Q2. Create a child class car from the vehicle class created in Que 1, which will inherit the vehicle class.\n",
    "Create a method named seating_capacity which takes capacity as an argument and returns the name of\n",
    "the vehicle and its seating capacity."
   ]
  },
  {
   "cell_type": "code",
   "execution_count": 38,
   "id": "95d7d161-4ac8-4cb5-bfcf-7026e2b58b07",
   "metadata": {},
   "outputs": [],
   "source": [
    "\n",
    "class car(vehicle):\n",
    "    def seating_capacity(self, capacity):\n",
    "        return f\"The {self.name_of_vehicle} has a seating capacity of {capacity} people.\"\n",
    "\n",
    "    "
   ]
  },
  {
   "cell_type": "markdown",
   "id": "ef61fb46-080c-460f-bc23-6f96e15c05dc",
   "metadata": {},
   "source": [
    "Q3. What is multiple inheritance? Write a python code to demonstrate multiple inheritance."
   ]
  },
  {
   "cell_type": "markdown",
   "id": "f21fea93-520f-4a5c-93a2-d1e86f7e69ee",
   "metadata": {},
   "source": [
    "Ans: Multiple inheritance is a concept in some programming languages where a class can receive characteristics and abilities from more than one parent class. This allows a class to inherit features from multiple sources, enabling it to combine and use the properties and behaviors of multiple parent classes."
   ]
  },
  {
   "cell_type": "code",
   "execution_count": 39,
   "id": "596bbcb0-6421-4a16-8c99-c6a37468a749",
   "metadata": {},
   "outputs": [
    {
     "name": "stdout",
     "output_type": "stream",
     "text": [
      "This is from Parent1 class.\n",
      "This is from Parent2 class.\n",
      "This is from ChildClass.\n"
     ]
    }
   ],
   "source": [
    "class Parent1:\n",
    "    def method_parent1(self):\n",
    "        print(\"This is from Parent1 class.\")\n",
    "\n",
    "\n",
    "class Parent2:\n",
    "    def method_parent2(self):\n",
    "        print(\"This is from Parent2 class.\")\n",
    "\n",
    "\n",
    "class ChildClass(Parent1, Parent2):\n",
    "    def method_child(self):\n",
    "        print(\"This is from ChildClass.\")\n",
    "\n",
    "\n",
    "child_obj = ChildClass()\n",
    "child_obj.method_parent1()\n",
    "child_obj.method_parent2()\n",
    "child_obj.method_child()\n"
   ]
  },
  {
   "cell_type": "markdown",
   "id": "90171f65-2daa-49f9-a1e7-ad23972d578e",
   "metadata": {},
   "source": [
    "Q4. What are getter and setter in python? Create a class and create a getter and a setter method in this\n",
    "class ."
   ]
  },
  {
   "cell_type": "markdown",
   "id": "d4c3381e-c8b7-4d32-87f1-55c41c1e22ec",
   "metadata": {},
   "source": [
    "Ans: Getter  is a method used to retrieve the value of a private attribute. It provides read access to the attribute.\n",
    "     Setter is a method used to set the value of a private attribute. It provides write access to the attribute and allows for validation or modification before      setting the value."
   ]
  },
  {
   "cell_type": "code",
   "execution_count": 40,
   "id": "02a1f2f0-10cc-4b7e-a109-9675a326505c",
   "metadata": {},
   "outputs": [
    {
     "name": "stdout",
     "output_type": "stream",
     "text": [
      "10\n"
     ]
    }
   ],
   "source": [
    "class MyClass:\n",
    "    def __init__(self):\n",
    "        self._my_variable = None\n",
    "\n",
    "    # Getter method\n",
    "    def get_my_variable(self):\n",
    "        return self._my_variable\n",
    "\n",
    "    # Setter method\n",
    "    def set_my_variable(self, value):\n",
    "        self._my_variable = value\n",
    "\n",
    "\n",
    "# Creating an instance and using the getter and setter methods\n",
    "obj = MyClass()\n",
    "\n",
    "# Using the setter method to set the value\n",
    "obj.set_my_variable(10)\n",
    "\n",
    "# Using the getter method to retrieve the value\n",
    "print(obj.get_my_variable())  # Output: 10\n"
   ]
  },
  {
   "cell_type": "markdown",
   "id": "f5b0759c-5131-4f1b-bd3b-d3483d827b1b",
   "metadata": {},
   "source": [
    "Q5.What is method overriding in python? Write a python code to demonstrate method overriding?"
   ]
  },
  {
   "cell_type": "markdown",
   "id": "26e80757-37fa-4927-8ccb-65de43262ded",
   "metadata": {},
   "source": [
    "Ans:Method overriding is a feature that allows a subclass or child class to provide a specific implementation of a method that is already provided by its parent class. Here is an example:"
   ]
  },
  {
   "cell_type": "code",
   "execution_count": 41,
   "id": "5d037358-cced-4366-841f-6a1677ae2fa3",
   "metadata": {},
   "outputs": [
    {
     "name": "stdout",
     "output_type": "stream",
     "text": [
      "This is the method from the child class.\n"
     ]
    }
   ],
   "source": [
    "class ParentClass:\n",
    "    def my_method(self):\n",
    "        print(\"This is the method from the parent class.\")\n",
    "\n",
    "\n",
    "class ChildClass(ParentClass):\n",
    "    def my_method(self):\n",
    "        print(\"This is the method from the child class.\")\n",
    "\n",
    "\n",
    "\n",
    "child_obj = ChildClass()\n",
    "child_obj.my_method()  \n"
   ]
  },
  {
   "cell_type": "code",
   "execution_count": null,
   "id": "3e5a959f-ac93-4494-ac50-6acbf20de0ac",
   "metadata": {},
   "outputs": [],
   "source": []
  },
  {
   "cell_type": "code",
   "execution_count": null,
   "id": "801b93c4-acd4-4e26-b854-8d27469dacb4",
   "metadata": {},
   "outputs": [],
   "source": []
  }
 ],
 "metadata": {
  "kernelspec": {
   "display_name": "Python 3 (ipykernel)",
   "language": "python",
   "name": "python3"
  },
  "language_info": {
   "codemirror_mode": {
    "name": "ipython",
    "version": 3
   },
   "file_extension": ".py",
   "mimetype": "text/x-python",
   "name": "python",
   "nbconvert_exporter": "python",
   "pygments_lexer": "ipython3",
   "version": "3.10.8"
  }
 },
 "nbformat": 4,
 "nbformat_minor": 5
}
