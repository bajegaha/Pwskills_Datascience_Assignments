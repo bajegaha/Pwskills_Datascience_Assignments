{
 "cells": [
  {
   "cell_type": "markdown",
   "metadata": {},
   "source": [
    "<B>What is multithreading in python?<br></B>\n",
    "\n",
    "Ans------> Multithreading in Python refers to the ability of a program to execute multiple threads concurrently, allowing it to perform multiple tasks simultaneously. It's used to improve the responsiveness of applications by executing time-consuming tasks in the background without blocking the main program's execution. The threading module in Python is used to handle threads.</br>\n",
    " <B><br> Why is it used? </B>\n",
    "\n",
    "\n",
    " Ans --->It's used to improve the responsiveness of applications by executing time-consuming tasks in the background without blocking the main program's execution.\n",
    "\n",
    " \n",
    " \n",
    "</br><B>Name the module used to handle threads in python.</B>\n",
    "\n",
    "Ans ----> The 'threading' module in Python is used to handle threads\n"
   ]
  },
  {
   "cell_type": "code",
   "execution_count": null,
   "metadata": {},
   "outputs": [],
   "source": []
  },
  {
   "cell_type": "markdown",
   "metadata": {},
   "source": [
    "<B>Q2.Why threading module used?  Write the use of the following functions <br></B>\n",
    "1.activeCount()</br>\n",
    "2.currentThread()<br>\n",
    "3.enumerate()</br>\n",
    "\n",
    "\n",
    "\n",
    "  Ans--->  Threading module is used in Python to  handle threads.<br>\n",
    "   <B>activeCount()</B>: Returns the number of active threads in the current program.</br>\n",
    "  <B>currentThread()</B>: Returns the currently executing thread object.\n",
    "<B><br>enumerate()</B>: Returns a list of all Thread objects currently active.</br>"
   ]
  },
  {
   "cell_type": "code",
   "execution_count": null,
   "metadata": {},
   "outputs": [],
   "source": []
  },
  {
   "cell_type": "markdown",
   "metadata": {},
   "source": [
    "\n",
    "<B>3. Explain the following functions <br></B>\n",
    "\n",
    " run()</br>\n",
    " start()\n",
    " <br>join()\n",
    "</br> isAlive()\n",
    "\n",
    "\n",
    "\n",
    "\n",
    "\n",
    "Ans---> run(): Represents the code to be executed by a thread when started.\n",
    "<br>start(): Initiates the thread's execution by calling the run() method.</br><br>\n",
    "join(): Waits for the thread to complete its execution before proceeding.</br>\n",
    "isAlive(): Checks if the thread is currently active.</br>\n"
   ]
  },
  {
   "cell_type": "code",
   "execution_count": null,
   "metadata": {},
   "outputs": [],
   "source": []
  },
  {
   "cell_type": "markdown",
   "metadata": {},
   "source": [
    "\n",
    "4.<B> Write a python program to create two threads</B>.<br> Thread one must print the list of squares and thread\n",
    "two must print the list of cubes\n",
    "\n"
   ]
  },
  {
   "cell_type": "code",
   "execution_count": 1,
   "metadata": {},
   "outputs": [
    {
     "name": "stdout",
     "output_type": "stream",
     "text": [
      "Squares: [1, 4, 9, 16, 25]\n",
      "Cubes: [1, 8, 27, 64, 125]\n"
     ]
    }
   ],
   "source": [
    "import threading\n",
    "\n",
    "def print_squares():\n",
    "    squares = [x * x for x in range(1, 6)]\n",
    "    print(\"Squares:\", squares)\n",
    "\n",
    "def print_cubes():\n",
    "    cubes = [x * x * x for x in range(1, 6)]\n",
    "    print(\"Cubes:\", cubes)\n",
    "\n",
    "# Creating threads\n",
    "thread1 = threading.Thread(target=print_squares)\n",
    "thread2 = threading.Thread(target=print_cubes)\n",
    "\n",
    "# Starting threads\n",
    "thread1.start()\n",
    "thread2.start()\n",
    "\n",
    "# Waiting for threads to complete\n",
    "thread1.join()\n",
    "thread2.join()\n"
   ]
  },
  {
   "cell_type": "code",
   "execution_count": null,
   "metadata": {},
   "outputs": [],
   "source": []
  },
  {
   "cell_type": "markdown",
   "metadata": {},
   "source": [
    "\n",
    "5. <B>State advantages and disadvantages of multithreading</B>\n",
    "\n",
    "\n",
    "ans ---> \n",
    "  <B>   Advantages:</B>\n",
    "\n",
    "<br>Improved Performance: It allows concurrent execution, utilizing multiple CPU cores.</br>\n",
    "Enhanced Responsiveness: Helps in keeping the program responsive by performing tasks concurrently.\n",
    "<br>Resource Sharing: Threads can share memory, reducing the overhead of communication.</br>\n",
    " \n",
    "   <B>  Disadvantages: </B>\n",
    "   \n",
    "<br>Complexity: Handling synchronization and avoiding race conditions can be challenging.</br>\n",
    "Resource Contentions: Threads might contend for shared resources, leading to inefficiencies.\n",
    "<br>Potential for Deadlocks: Incorrect synchronization might result in deadlocks.</br>"
   ]
  },
  {
   "cell_type": "code",
   "execution_count": null,
   "metadata": {},
   "outputs": [],
   "source": []
  },
  {
   "cell_type": "markdown",
   "metadata": {},
   "source": [
    "<B>6. Explain deadlocks and race conditions.</B>\n",
    "\n",
    "ans -->  Deadlock: A deadlock occurs when two or more threads are blocked forever, waiting for each other to release resources that they need. Essentially, they're stuck and cannot proceed.<br>\n",
    "</br>Race Condition: A race condition occurs when the behavior of a program depends on the order of execution of threads. It leads to unpredictable results because the threads are \"racing\" to access and modify shared resources without proper synchronization."
   ]
  }
 ],
 "metadata": {
  "kernelspec": {
   "display_name": "Python 3",
   "language": "python",
   "name": "python3"
  },
  "language_info": {
   "codemirror_mode": {
    "name": "ipython",
    "version": 3
   },
   "file_extension": ".py",
   "mimetype": "text/x-python",
   "name": "python",
   "nbconvert_exporter": "python",
   "pygments_lexer": "ipython3",
   "version": "3.11.6"
  }
 },
 "nbformat": 4,
 "nbformat_minor": 2
}
