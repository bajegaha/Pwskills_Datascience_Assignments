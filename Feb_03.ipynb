{
 "cells": [
  {
   "cell_type": "markdown",
   "id": "11ad1ac8-d198-4a8f-a297-4aefb4fbcd6c",
   "metadata": {},
   "source": []
  },
  {
   "cell_type": "markdown",
   "id": "866b0578-310c-469e-b223-16f31f9924fb",
   "metadata": {},
   "source": []
  },
  {
   "cell_type": "markdown",
   "id": "507d2abd-4f60-4482-807f-9d8a719a6581",
   "metadata": {},
   "source": [
    "\n",
    "Q1. Which keyword is used to create a function? Create a function to return a list of odd numbers in the\n",
    "range of 1 to 25."
   ]
  },
  {
   "cell_type": "markdown",
   "id": "e12f0a3e-10e3-4f3c-919c-3ef78d11c894",
   "metadata": {},
   "source": [
    "Ans: To create a function we use  ' def ' keyword."
   ]
  },
  {
   "cell_type": "code",
   "execution_count": 6,
   "id": "99d25442-6543-466b-a596-8785310892f6",
   "metadata": {},
   "outputs": [
    {
     "name": "stdout",
     "output_type": "stream",
     "text": [
      "1\n",
      "3\n",
      "5\n",
      "7\n",
      "9\n",
      "11\n",
      "13\n",
      "15\n",
      "17\n",
      "19\n",
      "21\n",
      "23\n",
      "25\n"
     ]
    }
   ],
   "source": [
    "def odd_numbers():\n",
    "    for i in range(1,26):\n",
    "        if i % 2 !=0:\n",
    "            print(i)\n",
    "            \n",
    "odd_numbers()"
   ]
  },
  {
   "cell_type": "code",
   "execution_count": null,
   "id": "eade3fff-e340-4486-b14e-5fa7283b27dc",
   "metadata": {},
   "outputs": [],
   "source": []
  },
  {
   "cell_type": "markdown",
   "id": "c50b7e15-851e-4e42-b61a-3939f74b7389",
   "metadata": {},
   "source": [
    "Q2. Why *args and **kwargs is used in some functions? Create a function each for *args\n",
    " and **kwargs to demonstrate their use."
   ]
  },
  {
   "cell_type": "markdown",
   "id": "6596d73d-afd6-4904-8e02-1f79dd1d60af",
   "metadata": {},
   "source": [
    "Ans: The \"args \" and \"kwargs\" are used in python function to handle a varible number of arguments passed to a function."
   ]
  },
  {
   "cell_type": "code",
   "execution_count": 8,
   "id": "edcef1b9-3339-430f-8ff3-42d3cb25e0ce",
   "metadata": {},
   "outputs": [
    {
     "name": "stdout",
     "output_type": "stream",
     "text": [
      "10\n"
     ]
    }
   ],
   "source": [
    "def sum_num(*args):\n",
    "    return sum(args)\n",
    "\n",
    "result = sum_num(1,2,3,4)\n",
    "print (result)"
   ]
  },
  {
   "cell_type": "code",
   "execution_count": 10,
   "id": "e3431f5a-c404-421f-96fb-e85cbe516c2e",
   "metadata": {},
   "outputs": [
    {
     "name": "stdout",
     "output_type": "stream",
     "text": [
      "name:himal\n",
      "age:22\n",
      "country:Nepal\n"
     ]
    }
   ],
   "source": [
    "def value(**kwargs):\n",
    "    for key, value in kwargs.items():\n",
    "        print(f\"{key}:{value}\")\n",
    "        \n",
    "value(name=\"himal\", age =22, country = \"Nepal\")\n",
    "    "
   ]
  },
  {
   "cell_type": "code",
   "execution_count": null,
   "id": "479c3436-970c-47a6-af75-4c6a15815fe8",
   "metadata": {},
   "outputs": [],
   "source": []
  },
  {
   "cell_type": "markdown",
   "id": "2ca7f70b-826d-4dfb-93e3-7a831e4d742b",
   "metadata": {},
   "source": [
    "Q3. What is an iterator in python? Name the method used to initialise the iterator\n",
    " object and the method used for iteration.\n",
    "  Use these methods to print the first five elements of the given list \n",
    "  \n",
    "  [2, 4, 6, 8, 10, 12, 14, 16,18, 20]."
   ]
  },
  {
   "cell_type": "markdown",
   "id": "7e0340fd-5deb-42f2-bad0-d5ac1dc4ec71",
   "metadata": {},
   "source": [
    "Ans: An iterator in python is an object that can be iterated upon.'__iter__' is used to initialize the iterator object, and __next__ method is used for iteration.\n"
   ]
  },
  {
   "cell_type": "code",
   "execution_count": 13,
   "id": "a6dc087f-126e-433d-968d-78d009410ed2",
   "metadata": {},
   "outputs": [
    {
     "name": "stdout",
     "output_type": "stream",
     "text": [
      "2\n",
      "4\n",
      "6\n",
      "8\n",
      "9\n"
     ]
    }
   ],
   "source": [
    "list1 = iter([2,4,6,8,9,9,10])\n",
    "for i in range(5):\n",
    "    print(next(list1))"
   ]
  },
  {
   "cell_type": "code",
   "execution_count": null,
   "id": "cc5de483-e76f-4837-9655-02e0970b5139",
   "metadata": {},
   "outputs": [],
   "source": []
  },
  {
   "cell_type": "markdown",
   "id": "36394f30-0fa3-403c-81cc-a841f7a9b8f1",
   "metadata": {},
   "source": [
    "Q4. What is a generator function in python? Why yield keyword is used? Give an example of a generator\n",
    "function."
   ]
  },
  {
   "cell_type": "markdown",
   "id": "6356d1d8-fddd-47e1-aaca-978eef425713",
   "metadata": {},
   "source": [
    "Ans: A generator function in python is a function that returns an iterator by using yield keyword. yield keyword is used to produce a sequence of values one at a time ."
   ]
  },
  {
   "cell_type": "code",
   "execution_count": 15,
   "id": "1988f447-ac1d-4e47-ad67-85da1119aa51",
   "metadata": {},
   "outputs": [
    {
     "name": "stdout",
     "output_type": "stream",
     "text": [
      "0\n",
      "1\n",
      "2\n",
      "3\n",
      "4\n",
      "5\n"
     ]
    }
   ],
   "source": [
    "def generator1(n):\n",
    "    for i in range(n):\n",
    "        yield i \n",
    "        \n",
    "\n",
    "gen = generator1(6)\n",
    "\n",
    "for j in gen:\n",
    "    print(j)"
   ]
  },
  {
   "cell_type": "code",
   "execution_count": null,
   "id": "8f5d6b6a-10a8-4b41-a525-3504c166e845",
   "metadata": {},
   "outputs": [],
   "source": []
  },
  {
   "cell_type": "markdown",
   "id": "e9acc9a6-ff98-4d6c-82f6-90eed182e129",
   "metadata": {},
   "source": [
    "Q5. Create a generator function for prime numbers less than 1000. Use the next() method to print the\n",
    "first 20 prime numbers."
   ]
  },
  {
   "cell_type": "code",
   "execution_count": 18,
   "id": "e90ed04c-1272-4ebc-a697-ea881901c5cb",
   "metadata": {},
   "outputs": [
    {
     "name": "stdout",
     "output_type": "stream",
     "text": [
      "2\n",
      "3\n",
      "5\n",
      "7\n",
      "11\n",
      "13\n",
      "17\n",
      "19\n",
      "23\n",
      "29\n",
      "31\n",
      "37\n",
      "41\n",
      "43\n",
      "47\n",
      "53\n",
      "59\n",
      "61\n",
      "67\n",
      "71\n"
     ]
    }
   ],
   "source": [
    "def is_prime(num):\n",
    "    if num < 2:\n",
    "        return False\n",
    "\n",
    "    i = 2\n",
    "    while i*i <= num:\n",
    "        if num % i == 0:\n",
    "            return False\n",
    "        i += 1\n",
    "\n",
    "    return True\n",
    "\n",
    "def prime_generator():\n",
    "    num = 2\n",
    "    while num < 1000:\n",
    "        if is_prime(num):\n",
    "            yield num\n",
    "        num += 1\n",
    "\n",
    "gen = prime_generator()\n",
    "for _ in range(20):\n",
    "    print(next(gen))\n"
   ]
  },
  {
   "cell_type": "code",
   "execution_count": null,
   "id": "f819882c-805b-4d84-8d97-937764c6aa48",
   "metadata": {},
   "outputs": [],
   "source": []
  },
  {
   "cell_type": "code",
   "execution_count": null,
   "id": "f266519e-648b-4577-b024-89483d501ca7",
   "metadata": {},
   "outputs": [],
   "source": []
  }
 ],
 "metadata": {
  "kernelspec": {
   "display_name": "Python 3 (ipykernel)",
   "language": "python",
   "name": "python3"
  },
  "language_info": {
   "codemirror_mode": {
    "name": "ipython",
    "version": 3
   },
   "file_extension": ".py",
   "mimetype": "text/x-python",
   "name": "python",
   "nbconvert_exporter": "python",
   "pygments_lexer": "ipython3",
   "version": "3.10.8"
  }
 },
 "nbformat": 4,
 "nbformat_minor": 5
}
